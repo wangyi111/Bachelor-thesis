{
  "nbformat": 4,
  "nbformat_minor": 0,
  "metadata": {
    "colab": {
      "name": "main.ipynb",
      "provenance": [],
      "mount_file_id": "1J8wwDmS9lwYo9hJ56Q-m5C3JnTy3wYqD",
      "authorship_tag": "ABX9TyMFjmsxzK9HtvXwuL2Gxkka",
      "include_colab_link": true
    },
    "kernelspec": {
      "name": "python3",
      "display_name": "Python 3"
    },
    "accelerator": "GPU"
  },
  "cells": [
    {
      "cell_type": "markdown",
      "metadata": {
        "id": "view-in-github",
        "colab_type": "text"
      },
      "source": [
        "<a href=\"https://colab.research.google.com/github/wangyi111/Bachelor-thesis/blob/master/U-Net/main.ipynb\" target=\"_parent\"><img src=\"https://colab.research.google.com/assets/colab-badge.svg\" alt=\"Open In Colab\"/></a>"
      ]
    },
    {
      "cell_type": "code",
      "metadata": {
        "id": "jYwgqVncUIQY",
        "colab_type": "code",
        "colab": {}
      },
      "source": [
        "from model_unet import *\n",
        "from prepare_data import *"
      ],
      "execution_count": 1,
      "outputs": []
    },
    {
      "cell_type": "code",
      "metadata": {
        "id": "OtciJsRkUicQ",
        "colab_type": "code",
        "colab": {}
      },
      "source": [
        "data_gen_args = dict(rotation_range=0.2,\n",
        "                    width_shift_range=0.05,\n",
        "                    height_shift_range=0.05,\n",
        "                    shear_range=0.05,\n",
        "                    zoom_range=0.05,\n",
        "                    horizontal_flip=True,\n",
        "                    fill_mode='nearest')\n",
        "\n",
        "myGene = trainGenerator(2,'data/membrane/train','image','label',data_gen_args,save_to_dir = None)"
      ],
      "execution_count": 2,
      "outputs": []
    },
    {
      "cell_type": "code",
      "metadata": {
        "id": "Y-WhotvXW072",
        "colab_type": "code",
        "colab": {
          "base_uri": "https://localhost:8080/",
          "height": 706
        },
        "outputId": "ae1afeec-b762-499f-e600-e3461ea8f826"
      },
      "source": [
        "model = unet()\n",
        "model_checkpoint = tf.keras.callbacks.ModelCheckpoint('unet_membrane.hdf5', monitor='loss',verbose=1, save_best_only=True)\n",
        "model.fit(myGene,steps_per_epoch=300,epochs=10,callbacks=[model_checkpoint])"
      ],
      "execution_count": 5,
      "outputs": [
        {
          "output_type": "stream",
          "text": [
            "Epoch 1/10\n",
            "300/300 [==============================] - ETA: 0s - loss: 0.6890 - accuracy: 0.7793\n",
            "Epoch 00001: loss improved from inf to 0.68900, saving model to unet_membrane.hdf5\n",
            "300/300 [==============================] - 112s 373ms/step - loss: 0.6890 - accuracy: 0.7793\n",
            "Epoch 2/10\n",
            "300/300 [==============================] - ETA: 0s - loss: 0.6809 - accuracy: 0.7818\n",
            "Epoch 00002: loss improved from 0.68900 to 0.68087, saving model to unet_membrane.hdf5\n",
            "300/300 [==============================] - 112s 372ms/step - loss: 0.6809 - accuracy: 0.7818\n",
            "Epoch 3/10\n",
            "300/300 [==============================] - ETA: 0s - loss: 0.6731 - accuracy: 0.7813\n",
            "Epoch 00003: loss improved from 0.68087 to 0.67309, saving model to unet_membrane.hdf5\n",
            "300/300 [==============================] - 112s 375ms/step - loss: 0.6731 - accuracy: 0.7813\n",
            "Epoch 4/10\n",
            "300/300 [==============================] - ETA: 0s - loss: 0.6656 - accuracy: 0.7817\n",
            "Epoch 00004: loss improved from 0.67309 to 0.66555, saving model to unet_membrane.hdf5\n",
            "300/300 [==============================] - 112s 372ms/step - loss: 0.6656 - accuracy: 0.7817\n",
            "Epoch 5/10\n",
            "300/300 [==============================] - ETA: 0s - loss: 0.6583 - accuracy: 0.7818\n",
            "Epoch 00005: loss improved from 0.66555 to 0.65830, saving model to unet_membrane.hdf5\n",
            "300/300 [==============================] - 112s 372ms/step - loss: 0.6583 - accuracy: 0.7818\n",
            "Epoch 6/10\n",
            "300/300 [==============================] - ETA: 0s - loss: 0.6514 - accuracy: 0.7813\n",
            "Epoch 00006: loss improved from 0.65830 to 0.65142, saving model to unet_membrane.hdf5\n",
            "300/300 [==============================] - 111s 369ms/step - loss: 0.6514 - accuracy: 0.7813\n",
            "Epoch 7/10\n",
            "300/300 [==============================] - ETA: 0s - loss: 0.6447 - accuracy: 0.7813\n",
            "Epoch 00007: loss improved from 0.65142 to 0.64474, saving model to unet_membrane.hdf5\n",
            "300/300 [==============================] - 111s 369ms/step - loss: 0.6447 - accuracy: 0.7813\n",
            "Epoch 8/10\n",
            "300/300 [==============================] - ETA: 0s - loss: 0.6383 - accuracy: 0.7813\n",
            "Epoch 00008: loss improved from 0.64474 to 0.63829, saving model to unet_membrane.hdf5\n",
            "300/300 [==============================] - 110s 368ms/step - loss: 0.6383 - accuracy: 0.7813\n",
            "Epoch 9/10\n",
            "300/300 [==============================] - ETA: 0s - loss: 0.6322 - accuracy: 0.7810\n",
            "Epoch 00009: loss improved from 0.63829 to 0.63215, saving model to unet_membrane.hdf5\n",
            "300/300 [==============================] - 110s 368ms/step - loss: 0.6322 - accuracy: 0.7810\n",
            "Epoch 10/10\n",
            "300/300 [==============================] - ETA: 0s - loss: 0.6259 - accuracy: 0.7820\n",
            "Epoch 00010: loss improved from 0.63215 to 0.62592, saving model to unet_membrane.hdf5\n",
            "300/300 [==============================] - 111s 369ms/step - loss: 0.6259 - accuracy: 0.7820\n"
          ],
          "name": "stdout"
        },
        {
          "output_type": "execute_result",
          "data": {
            "text/plain": [
              "<tensorflow.python.keras.callbacks.History at 0x7f9f396830b8>"
            ]
          },
          "metadata": {
            "tags": []
          },
          "execution_count": 5
        }
      ]
    },
    {
      "cell_type": "code",
      "metadata": {
        "id": "JwlR9pzrXE-o",
        "colab_type": "code",
        "colab": {}
      },
      "source": [
        "testGene = testGenerator(\"data/membrane/test\")\n",
        "results = model.predict_generator(testGene,30,verbose=1)\n",
        "saveResult(\"data/membrane/test\",results)"
      ],
      "execution_count": null,
      "outputs": []
    }
  ]
}